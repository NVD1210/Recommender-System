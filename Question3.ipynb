{
  "nbformat": 4,
  "nbformat_minor": 0,
  "metadata": {
    "colab": {
      "name": "Question3.ipynb",
      "provenance": [],
      "collapsed_sections": [],
      "toc_visible": true,
      "include_colab_link": true
    },
    "kernelspec": {
      "name": "python3",
      "display_name": "Python 3"
    },
    "language_info": {
      "name": "python"
    }
  },
  "cells": [
    {
      "cell_type": "markdown",
      "metadata": {
        "id": "view-in-github",
        "colab_type": "text"
      },
      "source": [
        "<a href=\"https://colab.research.google.com/github/NVD1210/Recommender-System/blob/main/Question3.ipynb\" target=\"_parent\"><img src=\"https://colab.research.google.com/assets/colab-badge.svg\" alt=\"Open In Colab\"/></a>"
      ]
    },
    {
      "cell_type": "markdown",
      "metadata": {
        "id": "C8OnvZDC50M5"
      },
      "source": [
        "# **Setup a Spark environment**"
      ]
    },
    {
      "cell_type": "code",
      "execution_count": null,
      "metadata": {
        "id": "rofJ_CnHZTRk"
      },
      "outputs": [],
      "source": [
        "# install java\n",
        "!apt-get install openjdk-8-jdk-headless -qq > /dev/null\n",
        "# install spark (change the version number if needed)\n",
        "!wget -q https://downloads.apache.org/spark/spark-3.1.3/spark-3.1.3-bin-hadoop3.2.tgz\n",
        "# unzip the spark file to the current folder\n",
        "!tar xf spark-3.1.3-bin-hadoop3.2.tgz"
      ]
    },
    {
      "cell_type": "code",
      "execution_count": null,
      "metadata": {
        "colab": {
          "base_uri": "https://localhost:8080/"
        },
        "id": "eajzSdmKrjTM",
        "outputId": "462d1e73-aacd-4805-ec90-5dc6308ff9db"
      },
      "outputs": [
        {
          "output_type": "stream",
          "name": "stdout",
          "text": [
            "Collecting pyspark==3.1.3\n",
            "  Downloading pyspark-3.1.3.tar.gz (214.0 MB)\n",
            "\u001b[K     |████████████████████████████████| 214.0 MB 8.6 kB/s \n",
            "\u001b[?25hCollecting py4j==0.10.9\n",
            "  Downloading py4j-0.10.9-py2.py3-none-any.whl (198 kB)\n",
            "\u001b[K     |████████████████████████████████| 198 kB 63.8 MB/s \n",
            "\u001b[?25hBuilding wheels for collected packages: pyspark\n",
            "  Building wheel for pyspark (setup.py) ... \u001b[?25l\u001b[?25hdone\n",
            "  Created wheel for pyspark: filename=pyspark-3.1.3-py2.py3-none-any.whl size=214463484 sha256=8c243438e6cd2ac5c8a7127ffd2feeb8f0a32f0663e53499f46e6026855db71a\n",
            "  Stored in directory: /root/.cache/pip/wheels/ad/8e/49/44c110bb8e008d0778c6577d600d46047c6478ecca3f8f1517\n",
            "Successfully built pyspark\n",
            "Installing collected packages: py4j, pyspark\n",
            "Successfully installed py4j-0.10.9 pyspark-3.1.3\n"
          ]
        }
      ],
      "source": [
        "# set your spark folder to your system path environment. \n",
        "import os\n",
        "os.environ[\"JAVA_HOME\"] = \"/usr/lib/jvm/java-8-openjdk-amd64\"\n",
        "os.environ[\"SPARK_HOME\"] = \"/content/spark-3.1.3-bin-hadoop3.2\"\n",
        "# install findspark using pip\n",
        "!pip install -q findspark\n",
        "!pip install pyspark==3.1.3\n",
        "\n"
      ]
    },
    {
      "cell_type": "code",
      "execution_count": null,
      "metadata": {
        "colab": {
          "base_uri": "https://localhost:8080/"
        },
        "id": "1Ut9fBup0jbG",
        "outputId": "1244cb92-5907-462f-b775-1f3dc9fb4c42"
      },
      "outputs": [
        {
          "output_type": "stream",
          "name": "stdout",
          "text": [
            "Collecting recommenders\n",
            "  Downloading recommenders-1.1.0-py3-none-manylinux1_x86_64.whl (335 kB)\n",
            "\u001b[K     |████████████████████████████████| 335 kB 9.0 MB/s \n",
            "\u001b[?25hRequirement already satisfied: requests<3,>=2.0.0 in /usr/local/lib/python3.7/dist-packages (from recommenders) (2.23.0)\n",
            "Collecting scikit-surprise>=1.0.6\n",
            "  Downloading scikit-surprise-1.1.1.tar.gz (11.8 MB)\n",
            "\u001b[K     |████████████████████████████████| 11.8 MB 32.3 MB/s \n",
            "\u001b[?25hCollecting lightfm<2,>=1.15\n",
            "  Downloading lightfm-1.16.tar.gz (310 kB)\n",
            "\u001b[K     |████████████████████████████████| 310 kB 46.9 MB/s \n",
            "\u001b[?25hRequirement already satisfied: scikit-learn<1.0.3,>=0.22.1 in /usr/local/lib/python3.7/dist-packages (from recommenders) (1.0.2)\n",
            "Requirement already satisfied: lightgbm>=2.2.1 in /usr/local/lib/python3.7/dist-packages (from recommenders) (2.2.3)\n",
            "Requirement already satisfied: numba<1,>=0.38.1 in /usr/local/lib/python3.7/dist-packages (from recommenders) (0.51.2)\n",
            "Collecting category-encoders<2,>=1.3.0\n",
            "  Downloading category_encoders-1.3.0-py2.py3-none-any.whl (61 kB)\n",
            "\u001b[K     |████████████████████████████████| 61 kB 6.7 MB/s \n",
            "\u001b[?25hCollecting transformers<5,>=2.5.0\n",
            "  Downloading transformers-4.18.0-py3-none-any.whl (4.0 MB)\n",
            "\u001b[K     |████████████████████████████████| 4.0 MB 41.7 MB/s \n",
            "\u001b[?25hRequirement already satisfied: pandas<2,>1.0.3 in /usr/local/lib/python3.7/dist-packages (from recommenders) (1.3.5)\n",
            "Collecting nltk<4,>=3.4\n",
            "  Downloading nltk-3.7-py3-none-any.whl (1.5 MB)\n",
            "\u001b[K     |████████████████████████████████| 1.5 MB 37.3 MB/s \n",
            "\u001b[?25hCollecting memory-profiler<1,>=0.54.0\n",
            "  Downloading memory_profiler-0.60.0.tar.gz (38 kB)\n",
            "Requirement already satisfied: jinja2<3.1,>=2 in /usr/local/lib/python3.7/dist-packages (from recommenders) (2.11.3)\n",
            "Collecting retrying>=1.3.3\n",
            "  Downloading retrying-1.3.3.tar.gz (10 kB)\n",
            "Requirement already satisfied: numpy>=1.19 in /usr/local/lib/python3.7/dist-packages (from recommenders) (1.21.5)\n",
            "Collecting cornac<2,>=1.1.2\n",
            "  Downloading cornac-1.14.2-cp37-cp37m-manylinux1_x86_64.whl (12.4 MB)\n",
            "\u001b[K     |████████████████████████████████| 12.4 MB 28.9 MB/s \n",
            "\u001b[?25hRequirement already satisfied: tqdm<5,>=4.31.1 in /usr/local/lib/python3.7/dist-packages (from recommenders) (4.64.0)\n",
            "Requirement already satisfied: seaborn<1,>=0.8.1 in /usr/local/lib/python3.7/dist-packages (from recommenders) (0.11.2)\n",
            "Requirement already satisfied: bottleneck<2,>=1.2.1 in /usr/local/lib/python3.7/dist-packages (from recommenders) (1.3.4)\n",
            "Collecting pyyaml<6,>=5.4.1\n",
            "  Downloading PyYAML-5.4.1-cp37-cp37m-manylinux1_x86_64.whl (636 kB)\n",
            "\u001b[K     |████████████████████████████████| 636 kB 65.6 MB/s \n",
            "\u001b[?25hCollecting pandera[strategies]>=0.6.5\n",
            "  Downloading pandera-0.9.0-py3-none-any.whl (197 kB)\n",
            "\u001b[K     |████████████████████████████████| 197 kB 58.7 MB/s \n",
            "\u001b[?25hRequirement already satisfied: matplotlib<4,>=2.2.2 in /usr/local/lib/python3.7/dist-packages (from recommenders) (3.2.2)\n",
            "Requirement already satisfied: scipy<2,>=1.0.0 in /usr/local/lib/python3.7/dist-packages (from recommenders) (1.4.1)\n",
            "Requirement already satisfied: statsmodels>=0.6.1 in /usr/local/lib/python3.7/dist-packages (from category-encoders<2,>=1.3.0->recommenders) (0.10.2)\n",
            "Requirement already satisfied: patsy>=0.4.1 in /usr/local/lib/python3.7/dist-packages (from category-encoders<2,>=1.3.0->recommenders) (0.5.2)\n",
            "Collecting powerlaw\n",
            "  Downloading powerlaw-1.5-py3-none-any.whl (24 kB)\n",
            "Requirement already satisfied: MarkupSafe>=0.23 in /usr/local/lib/python3.7/dist-packages (from jinja2<3.1,>=2->recommenders) (2.0.1)\n",
            "Requirement already satisfied: cycler>=0.10 in /usr/local/lib/python3.7/dist-packages (from matplotlib<4,>=2.2.2->recommenders) (0.11.0)\n",
            "Requirement already satisfied: python-dateutil>=2.1 in /usr/local/lib/python3.7/dist-packages (from matplotlib<4,>=2.2.2->recommenders) (2.8.2)\n",
            "Requirement already satisfied: kiwisolver>=1.0.1 in /usr/local/lib/python3.7/dist-packages (from matplotlib<4,>=2.2.2->recommenders) (1.4.2)\n",
            "Requirement already satisfied: pyparsing!=2.0.4,!=2.1.2,!=2.1.6,>=2.0.1 in /usr/local/lib/python3.7/dist-packages (from matplotlib<4,>=2.2.2->recommenders) (3.0.8)\n",
            "Requirement already satisfied: typing-extensions in /usr/local/lib/python3.7/dist-packages (from kiwisolver>=1.0.1->matplotlib<4,>=2.2.2->recommenders) (4.1.1)\n",
            "Requirement already satisfied: psutil in /usr/local/lib/python3.7/dist-packages (from memory-profiler<1,>=0.54.0->recommenders) (5.4.8)\n",
            "Requirement already satisfied: joblib in /usr/local/lib/python3.7/dist-packages (from nltk<4,>=3.4->recommenders) (1.1.0)\n",
            "Collecting regex>=2021.8.3\n",
            "  Downloading regex-2022.3.15-cp37-cp37m-manylinux_2_17_x86_64.manylinux2014_x86_64.whl (749 kB)\n",
            "\u001b[K     |████████████████████████████████| 749 kB 49.7 MB/s \n",
            "\u001b[?25hRequirement already satisfied: click in /usr/local/lib/python3.7/dist-packages (from nltk<4,>=3.4->recommenders) (7.1.2)\n",
            "Requirement already satisfied: setuptools in /usr/local/lib/python3.7/dist-packages (from numba<1,>=0.38.1->recommenders) (57.4.0)\n",
            "Requirement already satisfied: llvmlite<0.35,>=0.34.0.dev0 in /usr/local/lib/python3.7/dist-packages (from numba<1,>=0.38.1->recommenders) (0.34.0)\n",
            "Requirement already satisfied: pytz>=2017.3 in /usr/local/lib/python3.7/dist-packages (from pandas<2,>1.0.3->recommenders) (2018.9)\n",
            "Requirement already satisfied: pyarrow in /usr/local/lib/python3.7/dist-packages (from pandera[strategies]>=0.6.5->recommenders) (6.0.1)\n",
            "Requirement already satisfied: wrapt in /usr/local/lib/python3.7/dist-packages (from pandera[strategies]>=0.6.5->recommenders) (1.14.0)\n",
            "Collecting pydantic\n",
            "  Downloading pydantic-1.9.0-cp37-cp37m-manylinux_2_17_x86_64.manylinux2014_x86_64.whl (10.9 MB)\n",
            "\u001b[K     |████████████████████████████████| 10.9 MB 43.6 MB/s \n",
            "\u001b[?25hRequirement already satisfied: packaging>=20.0 in /usr/local/lib/python3.7/dist-packages (from pandera[strategies]>=0.6.5->recommenders) (21.3)\n",
            "Collecting typing-inspect>=0.6.0\n",
            "  Downloading typing_inspect-0.7.1-py3-none-any.whl (8.4 kB)\n",
            "Collecting hypothesis>=5.41.1\n",
            "  Downloading hypothesis-6.43.1-py3-none-any.whl (381 kB)\n",
            "\u001b[K     |████████████████████████████████| 381 kB 63.8 MB/s \n",
            "\u001b[?25hRequirement already satisfied: attrs>=19.2.0 in /usr/local/lib/python3.7/dist-packages (from hypothesis>=5.41.1->pandera[strategies]>=0.6.5->recommenders) (21.4.0)\n",
            "Requirement already satisfied: sortedcontainers<3.0.0,>=2.1.0 in /usr/local/lib/python3.7/dist-packages (from hypothesis>=5.41.1->pandera[strategies]>=0.6.5->recommenders) (2.4.0)\n",
            "Requirement already satisfied: six in /usr/local/lib/python3.7/dist-packages (from patsy>=0.4.1->category-encoders<2,>=1.3.0->recommenders) (1.15.0)\n",
            "Requirement already satisfied: certifi>=2017.4.17 in /usr/local/lib/python3.7/dist-packages (from requests<3,>=2.0.0->recommenders) (2021.10.8)\n",
            "Requirement already satisfied: idna<3,>=2.5 in /usr/local/lib/python3.7/dist-packages (from requests<3,>=2.0.0->recommenders) (2.10)\n",
            "Requirement already satisfied: chardet<4,>=3.0.2 in /usr/local/lib/python3.7/dist-packages (from requests<3,>=2.0.0->recommenders) (3.0.4)\n",
            "Requirement already satisfied: urllib3!=1.25.0,!=1.25.1,<1.26,>=1.21.1 in /usr/local/lib/python3.7/dist-packages (from requests<3,>=2.0.0->recommenders) (1.24.3)\n",
            "Requirement already satisfied: threadpoolctl>=2.0.0 in /usr/local/lib/python3.7/dist-packages (from scikit-learn<1.0.3,>=0.22.1->recommenders) (3.1.0)\n",
            "Collecting sacremoses\n",
            "  Downloading sacremoses-0.0.49-py3-none-any.whl (895 kB)\n",
            "\u001b[K     |████████████████████████████████| 895 kB 47.3 MB/s \n",
            "\u001b[?25hCollecting tokenizers!=0.11.3,<0.13,>=0.11.1\n",
            "  Downloading tokenizers-0.12.1-cp37-cp37m-manylinux_2_12_x86_64.manylinux2010_x86_64.whl (6.6 MB)\n",
            "\u001b[K     |████████████████████████████████| 6.6 MB 33.7 MB/s \n",
            "\u001b[?25hCollecting huggingface-hub<1.0,>=0.1.0\n",
            "  Downloading huggingface_hub-0.5.1-py3-none-any.whl (77 kB)\n",
            "\u001b[K     |████████████████████████████████| 77 kB 6.6 MB/s \n",
            "\u001b[?25hRequirement already satisfied: importlib-metadata in /usr/local/lib/python3.7/dist-packages (from transformers<5,>=2.5.0->recommenders) (4.11.3)\n",
            "Requirement already satisfied: filelock in /usr/local/lib/python3.7/dist-packages (from transformers<5,>=2.5.0->recommenders) (3.6.0)\n",
            "Collecting mypy-extensions>=0.3.0\n",
            "  Downloading mypy_extensions-0.4.3-py2.py3-none-any.whl (4.5 kB)\n",
            "Requirement already satisfied: zipp>=0.5 in /usr/local/lib/python3.7/dist-packages (from importlib-metadata->transformers<5,>=2.5.0->recommenders) (3.8.0)\n",
            "Requirement already satisfied: mpmath in /usr/local/lib/python3.7/dist-packages (from powerlaw->cornac<2,>=1.1.2->recommenders) (1.2.1)\n",
            "Building wheels for collected packages: lightfm, memory-profiler, retrying, scikit-surprise\n",
            "  Building wheel for lightfm (setup.py) ... \u001b[?25l\u001b[?25hdone\n",
            "  Created wheel for lightfm: filename=lightfm-1.16-cp37-cp37m-linux_x86_64.whl size=705357 sha256=a351548fe88699c91a0a86048365a6834c3c6f7bc05da3ce0ae2fdf359d435e0\n",
            "  Stored in directory: /root/.cache/pip/wheels/f8/56/28/5772a3bd3413d65f03aa452190b00898b680b10028a1021914\n",
            "  Building wheel for memory-profiler (setup.py) ... \u001b[?25l\u001b[?25hdone\n",
            "  Created wheel for memory-profiler: filename=memory_profiler-0.60.0-py3-none-any.whl size=31284 sha256=a394c5920e189c26d68d39d9eafbbb6ede4dedd6b8ffc07035fa7b2a3cf66f57\n",
            "  Stored in directory: /root/.cache/pip/wheels/67/2b/fb/326e30d638c538e69a5eb0aa47f4223d979f502bbdb403950f\n",
            "  Building wheel for retrying (setup.py) ... \u001b[?25l\u001b[?25hdone\n",
            "  Created wheel for retrying: filename=retrying-1.3.3-py3-none-any.whl size=11447 sha256=72d5b582144dadbd7805a125f1881e03415f807fa3f263620bf5049a24177e83\n",
            "  Stored in directory: /root/.cache/pip/wheels/f9/8d/8d/f6af3f7f9eea3553bc2fe6d53e4b287dad18b06a861ac56ddf\n",
            "  Building wheel for scikit-surprise (setup.py) ... \u001b[?25l\u001b[?25hdone\n",
            "  Created wheel for scikit-surprise: filename=scikit_surprise-1.1.1-cp37-cp37m-linux_x86_64.whl size=1630190 sha256=7ae6849e7de5f00173be5aa86eb32f761318ac54c75a0437639b1f0fddf23198\n",
            "  Stored in directory: /root/.cache/pip/wheels/76/44/74/b498c42be47b2406bd27994e16c5188e337c657025ab400c1c\n",
            "Successfully built lightfm memory-profiler retrying scikit-surprise\n",
            "Installing collected packages: mypy-extensions, typing-inspect, regex, pyyaml, pydantic, tokenizers, sacremoses, powerlaw, pandera, hypothesis, huggingface-hub, transformers, scikit-surprise, retrying, nltk, memory-profiler, lightfm, cornac, category-encoders, recommenders\n",
            "  Attempting uninstall: regex\n",
            "    Found existing installation: regex 2019.12.20\n",
            "    Uninstalling regex-2019.12.20:\n",
            "      Successfully uninstalled regex-2019.12.20\n",
            "  Attempting uninstall: pyyaml\n",
            "    Found existing installation: PyYAML 3.13\n",
            "    Uninstalling PyYAML-3.13:\n",
            "      Successfully uninstalled PyYAML-3.13\n",
            "  Attempting uninstall: nltk\n",
            "    Found existing installation: nltk 3.2.5\n",
            "    Uninstalling nltk-3.2.5:\n",
            "      Successfully uninstalled nltk-3.2.5\n",
            "Successfully installed category-encoders-1.3.0 cornac-1.14.2 huggingface-hub-0.5.1 hypothesis-6.43.1 lightfm-1.16 memory-profiler-0.60.0 mypy-extensions-0.4.3 nltk-3.7 pandera-0.9.0 powerlaw-1.5 pydantic-1.9.0 pyyaml-5.4.1 recommenders-1.1.0 regex-2022.3.15 retrying-1.3.3 sacremoses-0.0.49 scikit-surprise-1.1.1 tokenizers-0.12.1 transformers-4.18.0 typing-inspect-0.7.1\n"
          ]
        }
      ],
      "source": [
        "# !pip install -U --no-cache-dir gdown --pre\n",
        "!pip install recommenders"
      ]
    },
    {
      "cell_type": "code",
      "execution_count": null,
      "metadata": {
        "colab": {
          "base_uri": "https://localhost:8080/"
        },
        "id": "rLVoqBDPhg64",
        "outputId": "22edc788-7fe2-4c62-e415-7a3717afaf2b"
      },
      "outputs": [
        {
          "output_type": "stream",
          "name": "stdout",
          "text": [
            "System version: 3.7.13 (default, Mar 16 2022, 17:37:17) \n",
            "[GCC 7.5.0]\n",
            "Spark version: 3.1.3\n"
          ]
        }
      ],
      "source": [
        "# set the environment path to find Recommenders\n",
        "import sys\n",
        "import warnings\n",
        "import numpy as np\n",
        "from numpy import longlong\n",
        "\n",
        "import pyspark\n",
        "from pyspark import SparkConf, SparkContext, sql\n",
        "\n",
        "import pyspark.sql.functions as F\n",
        "from pyspark.sql import SparkSession\n",
        "from pyspark.sql import Row\n",
        "from pyspark.sql.functions import col\n",
        "from pyspark.sql.functions import udf\n",
        "\n",
        "from pyspark.ml.evaluation import RegressionEvaluator\n",
        "from pyspark.ml.recommendation import ALS\n",
        "from pyspark.sql.types import StructType, StructField\n",
        "from pyspark.sql.types import StringType, FloatType, IntegerType, LongType\n",
        "warnings.simplefilter(action='ignore', category=FutureWarning)\n",
        "\n",
        "from recommenders.utils.timer import Timer\n",
        "from recommenders.datasets import movielens\n",
        "from recommenders.utils.notebook_utils import is_jupyter\n",
        "from recommenders.datasets.spark_splitters import spark_random_split\n",
        "from recommenders.evaluation.spark_evaluation import SparkRatingEvaluation, SparkRankingEvaluation\n",
        "from recommenders.utils.spark_utils import start_or_get_spark\n",
        "\n",
        "print(\"System version: {}\".format(sys.version))\n",
        "print(\"Spark version: {}\".format(pyspark.__version__))\n"
      ]
    },
    {
      "cell_type": "markdown",
      "metadata": {
        "id": "naubLxjnfSTk"
      },
      "source": [
        "# **MovieLens 10M Dataset**"
      ]
    },
    {
      "cell_type": "markdown",
      "metadata": {
        "id": "rT4_IZw6UsRP"
      },
      "source": [
        "**Mô tả Dataset**\n",
        "\n",
        "*   MovieLens 10M movie ratings.\n",
        "*   size: 63 MB.\n",
        "*   Data: 10M và 100K tag applications.\n",
        "*   Thu thập từ: 72,000 users cho 10,000 movies.\n",
        "*   Released 1/2009.\n"
      ]
    },
    {
      "cell_type": "markdown",
      "metadata": {
        "id": "FBYFGrTHefx0"
      },
      "source": [
        "## **Bước 1:** Load dữ liệu và chia mẫu train/test."
      ]
    },
    {
      "cell_type": "markdown",
      "metadata": {
        "id": "lNYeM9-Xefx7"
      },
      "source": [
        "Dữ liệu sẽ được load dưới dạng rdd. Đây là định dạng dữ liệu chịu lỗi tốt và có khả năng phân tán linh hoạt trên nhiều cụm xử lý của spark. Vì những tiện ích này chúng thường được sử dụng trong các tính toán và biến đổi dữ liệu."
      ]
    },
    {
      "cell_type": "code",
      "execution_count": null,
      "metadata": {
        "id": "jlr5douCefx7"
      },
      "outputs": [],
      "source": [
        "\n",
        "\n",
        "# Creating a SparkSession in Python\n",
        "# spark = SparkSession \\\n",
        "#     .builder \\\n",
        "#     .appName('ALS recommendation spark session') \\\n",
        "#     .getOrCreate()\n",
        "\n",
        "spark = SparkSession.builder.master(\"local[4]\")\\\n",
        "          .appName(\"StructureAPI\")\\\n",
        "          .config('spark.driver.memory','5g')\\\n",
        "          .config('spark.submit.deployMode','client')\\\n",
        "          .config('spark.executor.memory','2g')\\\n",
        "          .config('spark.executor.cores',4)\\\n",
        "          .config('spark.yarn.queue','short')\\\n",
        "          .getOrCreate()\n",
        "\n",
        "# lines = spark.read.text('data-ml-1m/ml-1m/ratings.dat').rdd\n",
        "# parts = lines.map(lambda row: row.value.split('::'))\n",
        "\n",
        "# ratingsRDD = parts.map(lambda p: Row(userId=int(p[0]), movieId=int(p[1]), rating=float(p[2]), timestamp=int(p[3])))\n",
        "\n",
        "# ratings = spark.createDataFrame(ratingsRDD)\n",
        "\n",
        "# (training, testing) = ratings.randomSplit([0.8, 0.2])"
      ]
    },
    {
      "cell_type": "code",
      "execution_count": null,
      "metadata": {
        "id": "3ObikH-Defx8"
      },
      "outputs": [],
      "source": [
        "# top k items to recommend\n",
        "TOP_K = 10\n",
        "\n",
        "\n",
        "# Column names for the dataset\n",
        "COL_USER = \"userId\"\n",
        "COL_ITEM = \"movieId\"\n",
        "COL_RATING = \"rating\"\n",
        "COL_TIMESTAMP = \"timestamp\""
      ]
    },
    {
      "cell_type": "code",
      "execution_count": null,
      "metadata": {
        "colab": {
          "base_uri": "https://localhost:8080/"
        },
        "id": "gK0Ea7Fbefx8",
        "outputId": "f1992f0d-cf84-4033-f9e3-7f22a309a872"
      },
      "outputs": [
        {
          "output_type": "stream",
          "name": "stderr",
          "text": [
            "100%|██████████| 64.0k/64.0k [00:02<00:00, 21.5kKB/s]\n"
          ]
        }
      ],
      "source": [
        "# Note: The DataFrame-based API for ALS currently only supports integers for user and item ids.\n",
        "schema = StructType(\n",
        "    (\n",
        "        StructField(COL_USER, IntegerType()),\n",
        "        StructField(COL_ITEM, IntegerType()),\n",
        "        StructField(COL_RATING, FloatType()),\n",
        "        StructField(COL_TIMESTAMP, LongType()),\n",
        "    )\n",
        ")\n",
        "\n",
        "# Select MovieLens data size: 100k, 1m, 10m, or 20m\n",
        "data = movielens.load_spark_df(spark, size='10m', schema=schema)\n",
        "# data.show()"
      ]
    },
    {
      "cell_type": "code",
      "execution_count": null,
      "metadata": {
        "colab": {
          "base_uri": "https://localhost:8080/"
        },
        "id": "v6_FJvIpefx8",
        "outputId": "fc70084b-59af-42fd-c895-bfcfeadbc814"
      },
      "outputs": [
        {
          "output_type": "stream",
          "name": "stdout",
          "text": [
            "The ratings dataframe is  98.66% sparse.\n"
          ]
        }
      ],
      "source": [
        "def get_mat_sparsity(ratings):\n",
        "    # Count the total number of ratings in the dataset\n",
        "    count_nonzero = ratings.select(\"rating\").count()\n",
        "\n",
        "    # Count the number of distinct userIds and distinct movieIds\n",
        "    total_elements = ratings.select(\"userId\").distinct().count() * ratings.select(\"movieId\").distinct().count()\n",
        "\n",
        "    # Divide the numerator by the denominator\n",
        "    sparsity = (1.0 - (count_nonzero *1.0)/total_elements)*100\n",
        "    print(\"The ratings dataframe is \", \"%.2f\" % sparsity + \"% sparse.\")\n",
        "    \n",
        "get_mat_sparsity(data)"
      ]
    },
    {
      "cell_type": "code",
      "execution_count": null,
      "metadata": {
        "colab": {
          "base_uri": "https://localhost:8080/"
        },
        "id": "9Y6kVCHpefx8",
        "outputId": "1bc45ba7-6e5a-4103-b0db-f73cfbd88ce7"
      },
      "outputs": [
        {
          "output_type": "stream",
          "name": "stdout",
          "text": [
            "N train 7997605\n",
            "N test 2002449\n"
          ]
        }
      ],
      "source": [
        "train, test = spark_random_split(data, ratio=0.8, seed=123)\n",
        "print (\"N train\", train.cache().count())\n",
        "print (\"N test\", test.cache().count())"
      ]
    },
    {
      "cell_type": "markdown",
      "metadata": {
        "id": "ziJpo9_qefx9"
      },
      "source": [
        "## **Bước 2:** Xây dựng mô hình ALS trên pyspark."
      ]
    },
    {
      "cell_type": "markdown",
      "metadata": {
        "id": "PUU2Wkdxefx9"
      },
      "source": [
        "### Xây dựng mô hình Recommendation"
      ]
    },
    {
      "cell_type": "markdown",
      "metadata": {
        "id": "iS2xQcTzefx9"
      },
      "source": [
        "Sử dụng module *`pyspark.ml.recommendation`* ta có thể dễ dàng xây dựng một mô hình recommendation theo phương pháp ALS. \n",
        "\n",
        "Các tham số khi khởi tạo mô hình đó là:\n",
        "\n",
        "*   maxIter: Số lượng vòng lặp tối đa\n",
        "*   regParam: Hệ số kiểm soát regularization\n",
        "*   userCol: tên cột chứa id của user\n",
        "*   itemCol: tên cột chứa id của item\n",
        "*   ratingCol: tên cột chứa giá trị của rating\n",
        "\n",
        "\n",
        "\n",
        "\n"
      ]
    },
    {
      "cell_type": "code",
      "execution_count": null,
      "metadata": {
        "id": "8K26iOMhefx9"
      },
      "outputs": [],
      "source": [
        "# # Xây dựng mô hình recommendation sử dụng thuật toán ALS trên tập dữ liệu huấn luyện\n",
        "# als = ALS(maxIter=5, regParam=0.01, userCol=\"userId\", itemCol=\"movieId\", ratingCol=\"rating\", coldStartStrategy=\"drop\", nonnegative=True)\n",
        "# model = als.fit(training)"
      ]
    },
    {
      "cell_type": "code",
      "execution_count": null,
      "metadata": {
        "id": "8Rk-6nInefx9"
      },
      "outputs": [],
      "source": [
        "header = {\n",
        "    \"userCol\": COL_USER,\n",
        "    \"itemCol\": COL_ITEM,\n",
        "    \"ratingCol\": COL_RATING,\n",
        "}\n",
        "\n",
        "als = ALS(\n",
        "    rank=10,\n",
        "    maxIter=15,\n",
        "    implicitPrefs=False,\n",
        "    regParam=0.05,\n",
        "    coldStartStrategy='drop',\n",
        "    nonnegative=False,\n",
        "    seed=42,\n",
        "    **header\n",
        ")"
      ]
    },
    {
      "cell_type": "markdown",
      "metadata": {
        "id": "_xW2hQ_iefx9"
      },
      "source": [
        "## **Bước 3:** Evaluation Metrics"
      ]
    },
    {
      "cell_type": "markdown",
      "source": [
        "Took 75.85578419299998 seconds for training.\n"
      ],
      "metadata": {
        "id": "EzLeEbhc15sv"
      }
    },
    {
      "cell_type": "code",
      "execution_count": null,
      "metadata": {
        "colab": {
          "base_uri": "https://localhost:8080/"
        },
        "id": "ZHL35uSLefx9",
        "outputId": "f898d5d9-87a8-4268-e369-d4575e9fd14c"
      },
      "outputs": [
        {
          "output_type": "stream",
          "name": "stdout",
          "text": [
            "Took 83.46696679600001 seconds for training.\n"
          ]
        }
      ],
      "source": [
        "with Timer() as train_time:\n",
        "    model = als.fit(train)\n",
        "\n",
        "print(\"Took {} seconds for training.\".format(train_time.interval))\n",
        "\n",
        "predictions = model.transform(test)"
      ]
    },
    {
      "cell_type": "markdown",
      "metadata": {
        "id": "SQCVc-kiefx-"
      },
      "source": [
        "#### **RMSE**"
      ]
    },
    {
      "cell_type": "markdown",
      "metadata": {
        "id": "oRNaCoRjefx-"
      },
      "source": [
        "Đánh giá mô hình thông qua chỉ số căn bậc 2 của trung bình sai số dự báo so với giá trị rating trên tập test, chỉ số RMSE."
      ]
    },
    {
      "cell_type": "code",
      "execution_count": null,
      "metadata": {
        "id": "7Te_1o3xefx-"
      },
      "outputs": [],
      "source": [
        "# evaluator = RegressionEvaluator(metricName=\"rmse\", labelCol=\"rating\", predictionCol=\"prediction\")\n",
        "# rmse = evaluator.evaluate(predictions)"
      ]
    },
    {
      "cell_type": "code",
      "execution_count": null,
      "metadata": {
        "id": "0W_mlFVJefx-"
      },
      "outputs": [],
      "source": [
        "# print(\"\\nRoot-mean-square error = \" + str(rmse))"
      ]
    },
    {
      "cell_type": "code",
      "execution_count": null,
      "metadata": {
        "colab": {
          "base_uri": "https://localhost:8080/"
        },
        "id": "J4eECXt9efx-",
        "outputId": "a28a1fca-0991-4f82-a274-f3d652e73faf"
      },
      "outputs": [
        {
          "output_type": "stream",
          "name": "stdout",
          "text": [
            "Model:\tALS rating prediction\n",
            "RMSE:\t0.798771\n",
            "MAE:\t0.620187\n",
            "Explained variance:\t0.440936\n",
            "R squared:\t0.432845\n"
          ]
        }
      ],
      "source": [
        "rating_eval = SparkRatingEvaluation(test, predictions, col_user=COL_USER, col_item=COL_ITEM, \n",
        "                                    col_rating=COL_RATING, col_prediction=\"prediction\")\n",
        "\n",
        "print(\"Model:\\tALS rating prediction\",\n",
        "      \"RMSE:\\t%f\" % rating_eval.rmse(),\n",
        "      \"MAE:\\t%f\" % rating_eval.mae(),\n",
        "      \"Explained variance:\\t%f\" % rating_eval.exp_var(),\n",
        "      \"R squared:\\t%f\" % rating_eval.rsquared(), sep='\\n')"
      ]
    },
    {
      "cell_type": "markdown",
      "metadata": {
        "id": "XX0Y76Hoefx-"
      },
      "source": [
        "#### **NDCG**"
      ]
    },
    {
      "cell_type": "markdown",
      "source": [
        "Took 4628.912535271 seconds for prediction.\n"
      ],
      "metadata": {
        "id": "u7doS0kK18W5"
      }
    },
    {
      "cell_type": "code",
      "execution_count": null,
      "metadata": {
        "colab": {
          "base_uri": "https://localhost:8080/"
        },
        "id": "G2BnociKefx-",
        "outputId": "fa760ff5-e867-4641-bd6d-e33970300694"
      },
      "outputs": [
        {
          "output_type": "stream",
          "name": "stdout",
          "text": [
            "Took 0.20226422999996885 seconds for prediction.\n"
          ]
        }
      ],
      "source": [
        "with Timer() as test_time:\n",
        "\n",
        "    # Get the cross join of all user-item pairs and score them.\n",
        "    users = train.select(COL_USER).distinct()\n",
        "    items = train.select(COL_ITEM).distinct()\n",
        "    user_item = users.crossJoin(items)\n",
        "    dfs_pred = model.transform(user_item)\n",
        "\n",
        "    # Remove seen items.\n",
        "    dfs_pred_exclude_train = dfs_pred.alias(\"pred\").join(\n",
        "        train.alias(\"train\"),\n",
        "        (dfs_pred[COL_USER] == train[COL_USER]) & (dfs_pred[COL_ITEM] == train[COL_ITEM]),\n",
        "        how='outer'\n",
        "    )\n",
        "\n",
        "    top_all = dfs_pred_exclude_train.filter(dfs_pred_exclude_train[f\"train.{COL_RATING}\"].isNull()) \\\n",
        "        .select('pred.' + COL_USER, 'pred.' + COL_ITEM, 'pred.' + \"prediction\")\n",
        "\n",
        "    # In Spark, transformations are lazy evaluation\n",
        "    # Use an action to force execute and measure the test time \n",
        "    # top_all.cache().count()\n",
        "\n",
        "print(\"Took {} seconds for prediction.\".format(test_time.interval))"
      ]
    },
    {
      "cell_type": "code",
      "execution_count": null,
      "metadata": {
        "id": "qMWEpfZSefx-"
      },
      "outputs": [],
      "source": [
        "rank_eval = SparkRankingEvaluation(test, top_all, k = TOP_K, col_user=COL_USER, col_item=COL_ITEM, \n",
        "                                    col_rating=COL_RATING, col_prediction=\"prediction\", \n",
        "                                    relevancy_method=\"top_k\")"
      ]
    },
    {
      "cell_type": "code",
      "execution_count": null,
      "metadata": {
        "colab": {
          "base_uri": "https://localhost:8080/"
        },
        "id": "SKv7xOu3efx_",
        "outputId": "b41b081c-3792-4815-c710-5f36d368b358"
      },
      "outputs": [
        {
          "output_type": "stream",
          "name": "stdout",
          "text": [
            "Model:\tALS\n",
            "Top K:\t10\n",
            "MAP:\t0.000635\n",
            "NDCG:\t0.005446\n",
            "Precision@K:\t0.006864\n",
            "Recall@K:\t0.003564\n"
          ]
        }
      ],
      "source": [
        "print(\"Model:\\tALS\",\n",
        "      \"Top K:\\t%d\" % rank_eval.k,\n",
        "      \"MAP:\\t%f\" % rank_eval.map_at_k(),\n",
        "      \"NDCG:\\t%f\" % rank_eval.ndcg_at_k(),\n",
        "      \"Precision@K:\\t%f\" % rank_eval.precision_at_k(),\n",
        "      \"Recall@K:\\t%f\" % rank_eval.recall_at_k(), sep='\\n')"
      ]
    },
    {
      "cell_type": "markdown",
      "metadata": {
        "id": "LFb-8de0efx_"
      },
      "source": [
        "#### **HIT RATE**"
      ]
    },
    {
      "cell_type": "code",
      "execution_count": null,
      "metadata": {
        "id": "Mh7RvU-gefx9"
      },
      "outputs": [],
      "source": [
        ""
      ]
    },
    {
      "cell_type": "code",
      "execution_count": null,
      "metadata": {
        "id": "mC3n0gFhefyA"
      },
      "outputs": [],
      "source": [
        "# Tạo ra top 10 bộ phim khuyến nghị cho mỗi một user từ tập test\n",
        "TopPredict = model.recommendForUserSubset(test, 10)\n",
        "top_predict_dict = {}\n",
        "for row in TopPredict.collect():\n",
        "  top_predict_dict[row['userId']] = [ movie_['movieId']  for movie_ in row['recommendations']]"
      ]
    },
    {
      "cell_type": "code",
      "execution_count": null,
      "metadata": {
        "id": "U5onqzT-efyA"
      },
      "outputs": [],
      "source": [
        "# # See how often we recommended a movie the user actually rated\n",
        "def HitRate(topPredicted, Predictions):\n",
        "    hits = 0\n",
        "    total = 0\n",
        " # For each left-out rating\n",
        "    for leftOut in Predictions.collect():\n",
        "        userID = leftOut[0]\n",
        "        leftOutMovieID = leftOut[1]\n",
        "        # Is it in the predicted top 10 for this user?\n",
        "        hit = False\n",
        "        for movieID in topPredicted[int(userID)]:\n",
        "            # print(leftOutMovieID, \"    \", movieID)\n",
        "            if (int(leftOutMovieID) == int(movieID)):\n",
        "                hit = True\n",
        "                break\n",
        "        if (hit):\n",
        "            hits += 1\n",
        "\n",
        "        total += 1\n",
        "\n",
        "    # # Compute overall precision\n",
        "    return hits/total"
      ]
    },
    {
      "cell_type": "code",
      "execution_count": null,
      "metadata": {
        "id": "ut5Ubt1PefyA",
        "colab": {
          "base_uri": "https://localhost:8080/"
        },
        "outputId": "f250b127-0ac0-43b8-9f27-6c160487f13a"
      },
      "outputs": [
        {
          "output_type": "stream",
          "name": "stdout",
          "text": [
            "\n",
            "Hit Rate:  0.001974624526694387\n"
          ]
        }
      ],
      "source": [
        "print(\"\\nHit Rate: \", HitRate(top_predict_dict, predictions))"
      ]
    },
    {
      "cell_type": "markdown",
      "metadata": {
        "id": "n0MsjDukefyA"
      },
      "source": [
        "## **Bước 4:** Khuyến nghị phim cho người dùng và khuyến nghị người dùng cho phim."
      ]
    },
    {
      "cell_type": "code",
      "execution_count": null,
      "metadata": {
        "id": "-NZfnzuDefyA"
      },
      "outputs": [],
      "source": [
        "# Tạo ra top 10 bộ phim khuyến nghị cho mỗi một user\n",
        "userRecs = model.recommendForAllUsers(10)"
      ]
    },
    {
      "cell_type": "code",
      "execution_count": null,
      "metadata": {
        "colab": {
          "base_uri": "https://localhost:8080/"
        },
        "id": "5oae8cwkefyB",
        "outputId": "dea3257b-ae4c-4a18-d14b-98fe093187c1"
      },
      "outputs": [
        {
          "output_type": "stream",
          "name": "stdout",
          "text": [
            "+------+--------------------------------------------------------------------------------------------------------------------------------------------------------------------------------------------------+\n",
            "|userId|recommendations                                                                                                                                                                                   |\n",
            "+------+--------------------------------------------------------------------------------------------------------------------------------------------------------------------------------------------------+\n",
            "|148   |[{25975, 5.9770083}, {33264, 5.6193523}, {64408, 5.5783195}, {57499, 5.4064713}, {32657, 5.25846}, {7144, 5.2430873}, {53883, 5.2336335}, {4454, 5.152204}, {720, 5.1415186}, {8120, 5.110942}]   |\n",
            "|463   |[{32657, 5.0905037}, {25975, 4.9146233}, {1198, 4.693926}, {260, 4.6364336}, {1196, 4.558309}, {64408, 4.4495726}, {33264, 4.4361687}, {318, 4.4339046}, {1036, 4.423878}, {7153, 4.4223895}]     |\n",
            "|471   |[{32109, 7.096632}, {8519, 6.3891573}, {51304, 6.1965127}, {5082, 6.1672187}, {5844, 6.1349335}, {31692, 6.1243854}, {32444, 6.0877533}, {31053, 5.9867373}, {620, 5.7623935}, {1787, 5.7400875}] |\n",
            "|496   |[{32444, 6.146345}, {403, 6.1217175}, {27679, 5.9733267}, {32456, 5.836871}, {3303, 5.793983}, {2760, 5.6518164}, {5861, 5.611755}, {27746, 5.5173297}, {1052, 5.5004334}, {7742, 5.496138}]      |\n",
            "|833   |[{25975, 5.524488}, {32657, 5.2795496}, {64408, 5.159958}, {33264, 5.0871577}, {53883, 4.8973885}, {858, 4.8211756}, {27376, 4.812136}, {7144, 4.7972174}, {26326, 4.773347}, {64275, 4.7377257}] |\n",
            "|1088  |[{25975, 4.502785}, {33264, 4.5004363}, {64408, 4.4975753}, {32657, 4.4122295}, {32649, 4.253521}, {7144, 4.181133}, {57499, 4.1289735}, {53883, 4.126759}, {27376, 4.118556}, {64275, 4.1107807}]|\n",
            "|1238  |[{25975, 5.240017}, {32657, 5.0660014}, {33264, 4.989958}, {64408, 4.886141}, {7144, 4.8432927}, {57499, 4.715143}, {26326, 4.6990623}, {318, 4.689704}, {26649, 4.678305}, {527, 4.6760635}]     |\n",
            "|1342  |[{25975, 5.0927777}, {32657, 4.791002}, {64408, 4.725108}, {53883, 4.655213}, {27376, 4.637957}, {33264, 4.6290226}, {60983, 4.6044607}, {858, 4.5658374}, {7144, 4.530932}, {26681, 4.4859467}]  |\n",
            "|1580  |[{27376, 5.15848}, {32657, 4.957684}, {60983, 4.892248}, {61742, 4.7955694}, {4171, 4.6810293}, {64408, 4.6528883}, {55156, 4.6154075}, {49265, 4.5957847}, {32649, 4.5956774}, {858, 4.5748043}] |\n",
            "|1591  |[{32444, 7.1883945}, {31053, 6.7885213}, {6511, 6.226164}, {31692, 6.1102858}, {5793, 6.0542593}, {32109, 5.9152393}, {32456, 5.865191}, {3954, 5.8551464}, {26147, 5.835472}, {59143, 5.8280077}]|\n",
            "|1645  |[{25975, 5.221254}, {7144, 4.961063}, {58964, 4.915563}, {32460, 4.861362}, {33264, 4.826037}, {32456, 4.8034277}, {8458, 4.800531}, {55402, 4.727353}, {6688, 4.7270384}, {64408, 4.71786}]      |\n",
            "|1829  |[{31692, 6.3282804}, {6511, 6.143167}, {6914, 6.046766}, {32444, 5.802436}, {8519, 5.796336}, {33150, 5.7713675}, {6227, 5.6902056}, {43899, 5.6772346}, {5904, 5.5898952}, {25960, 5.5176935}]   |\n",
            "|1959  |[{57499, 4.97352}, {32444, 4.956074}, {25960, 4.8984456}, {60475, 4.8335915}, {8794, 4.831494}, {25975, 4.826706}, {25905, 4.7229652}, {43899, 4.705791}, {5082, 4.7018843}, {1709, 4.6862044}]   |\n",
            "|2122  |[{32792, 4.086084}, {25975, 4.0781465}, {64408, 3.959432}, {4385, 3.925738}, {33264, 3.8879077}, {61742, 3.886992}, {4454, 3.8782876}, {64986, 3.8346665}, {55159, 3.808938}, {26073, 3.7846723}] |\n",
            "|2142  |[{25975, 4.722944}, {32444, 4.3991327}, {55620, 4.353012}, {5194, 4.2948213}, {57499, 4.1841073}, {6075, 4.1523685}, {58898, 4.1289644}, {7144, 4.124992}, {64197, 4.1184683}, {61253, 4.07424}]  |\n",
            "|2366  |[{55620, 6.1832023}, {32444, 6.111573}, {25975, 6.109503}, {7144, 5.8379254}, {32109, 5.7332716}, {5194, 5.699132}, {57499, 5.6030245}, {61253, 5.5547442}, {6075, 5.542691}, {32460, 5.536373}]  |\n",
            "|2659  |[{1787, 6.762242}, {27544, 6.2299285}, {5082, 6.154413}, {6600, 5.7874665}, {33150, 5.634161}, {25975, 5.596435}, {56908, 5.562462}, {8519, 5.5134497}, {31692, 5.497293}, {8574, 5.496971}]      |\n",
            "|2866  |[{6026, 6.515023}, {7578, 5.6395307}, {58898, 5.6284513}, {6778, 5.6270185}, {32593, 5.614634}, {62336, 5.587484}, {26699, 5.5834837}, {1555, 5.52838}, {26339, 5.5273466}, {32646, 5.508514}]    |\n",
            "|3175  |[{8458, 5.9126267}, {27436, 5.407072}, {25975, 5.324847}, {4538, 5.311797}, {3609, 5.2723026}, {26251, 5.241043}, {2838, 5.202267}, {60289, 5.2011876}, {55566, 5.1845856}, {33264, 5.1722565}]   |\n",
            "|3749  |[{25975, 5.360268}, {32657, 5.164663}, {64408, 5.1125135}, {33264, 4.992598}, {53883, 4.768772}, {26048, 4.7495694}, {26073, 4.732844}, {858, 4.7185435}, {27376, 4.6895466}, {64275, 4.6519575}] |\n",
            "+------+--------------------------------------------------------------------------------------------------------------------------------------------------------------------------------------------------+\n",
            "only showing top 20 rows\n",
            "\n"
          ]
        }
      ],
      "source": [
        "userRecs.show(truncate=False)"
      ]
    },
    {
      "cell_type": "code",
      "execution_count": null,
      "metadata": {
        "id": "l97c9Z7-efyB"
      },
      "outputs": [],
      "source": [
        "# Tạo ra top 10 user khuyến nghị cho mỗi một bộ phim\n",
        "movieRecs = model.recommendForAllItems(10)"
      ]
    },
    {
      "cell_type": "code",
      "execution_count": null,
      "metadata": {
        "colab": {
          "base_uri": "https://localhost:8080/"
        },
        "id": "amSgtcYZefyB",
        "outputId": "cbbe4526-c4ce-448e-fe13-c4ff2037eee4"
      },
      "outputs": [
        {
          "output_type": "stream",
          "name": "stdout",
          "text": [
            "+-------+-----------------------------------------------------------------------------------------------------------------------------------------------------------------------------------------------------+\n",
            "|movieId|recommendations                                                                                                                                                                                      |\n",
            "+-------+-----------------------------------------------------------------------------------------------------------------------------------------------------------------------------------------------------+\n",
            "|1580   |[{62350, 5.663908}, {9269, 5.6448183}, {31669, 5.3394833}, {45919, 5.331946}, {54749, 5.2863727}, {55934, 5.2701187}, {28132, 5.2676635}, {65873, 5.261842}, {37013, 5.225602}, {60907, 5.2165236}]  |\n",
            "|4900   |[{45771, 6.199051}, {48469, 5.901399}, {61093, 5.7784047}, {14858, 5.715238}, {25958, 5.550952}, {2117, 5.464593}, {12485, 5.4526854}, {1716, 5.447732}, {10307, 5.44512}, {28531, 5.4423323}]       |\n",
            "|5300   |[{56965, 5.219798}, {52674, 5.218375}, {42649, 5.1912694}, {12170, 5.120016}, {32178, 5.109093}, {19694, 5.0969844}, {53730, 5.0917196}, {68379, 5.087805}, {52749, 5.0829434}, {65873, 5.0603647}]  |\n",
            "|6620   |[{61212, 5.217922}, {51713, 5.145822}, {45895, 5.0696564}, {53730, 5.029877}, {24720, 4.997194}, {32178, 4.995125}, {49895, 4.9499106}, {98, 4.949777}, {7720, 4.942931}, {33256, 4.9371367}]        |\n",
            "|7240   |[{36991, 4.424813}, {31998, 4.310251}, {35746, 4.2735577}, {24326, 4.2294765}, {46483, 4.133327}, {12034, 4.119131}, {49895, 4.096883}, {11689, 4.0917935}, {68711, 4.0192184}, {35193, 4.017369}]   |\n",
            "|7340   |[{36022, 5.07848}, {52749, 5.0354843}, {1943, 5.022437}, {12170, 5.0141582}, {21890, 4.9317064}, {69957, 4.9290576}, {46262, 4.921334}, {10054, 4.911981}, {34370, 4.9077063}, {18362, 4.8849034}]   |\n",
            "|7880   |[{22236, 6.552391}, {23286, 5.813776}, {13951, 5.806815}, {23125, 5.802555}, {59718, 5.7622867}, {70971, 5.6320925}, {7702, 5.514974}, {57602, 5.486249}, {33185, 5.301327}, {23835, 5.296274}]      |\n",
            "|30970  |[{30014, 5.8046193}, {46057, 5.661959}, {29147, 5.482034}, {66657, 5.452038}, {55934, 5.4337883}, {64847, 5.415304}, {54556, 5.411091}, {17996, 5.410677}, {32486, 5.354744}, {46779, 5.3222003}]    |\n",
            "|32460  |[{34370, 7.2797346}, {61859, 7.0846515}, {44193, 7.0280643}, {7280, 7.0159564}, {30896, 6.870888}, {40921, 6.8569393}, {49097, 6.6615243}, {63359, 6.5725875}, {24438, 6.556373}, {21242, 6.5325203}]|\n",
            "|54190  |[{24037, 5.8224497}, {61093, 5.7286153}, {37726, 5.6900077}, {52749, 5.6690373}, {68170, 5.6314907}, {19594, 5.624365}, {31900, 5.612903}, {8848, 5.593443}, {58459, 5.553598}, {15057, 5.5349517}]  |\n",
            "|57370  |[{44899, 6.8023596}, {9269, 6.1759667}, {22236, 6.0691876}, {65390, 5.8464193}, {31257, 5.8096523}, {18357, 5.7824726}, {70035, 5.760064}, {13805, 5.7409034}, {29910, 5.733266}, {34016, 5.719133}] |\n",
            "|471    |[{61093, 5.584528}, {13482, 5.351339}, {167, 5.3266544}, {33256, 5.3050413}, {45895, 5.284811}, {70886, 5.2407346}, {32178, 5.2276564}, {47250, 5.2106}, {57000, 5.1813602}, {5759, 5.155283}]       |\n",
            "|1591   |[{62350, 4.848326}, {13600, 4.8217645}, {1943, 4.6643405}, {45771, 4.640192}, {62533, 4.6202884}, {36252, 4.6112127}, {17901, 4.575391}, {29504, 4.49701}, {19594, 4.495184}, {67352, 4.487444}]     |\n",
            "|4101   |[{1354, 6.85309}, {39939, 6.7662883}, {70886, 6.6887083}, {167, 6.6009536}, {65514, 6.5869374}, {35314, 6.53315}, {2112, 6.528602}, {20329, 6.5212216}, {25583, 6.490843}, {25623, 6.470573}]        |\n",
            "|63271  |[{52749, 2.8181963}, {12170, 2.80234}, {36022, 2.778036}, {42649, 2.76989}, {15575, 2.7577295}, {68379, 2.7454536}, {65873, 2.7341619}, {50063, 2.730689}, {71422, 2.7236125}, {35184, 2.713367}]    |\n",
            "|1342   |[{48074, 5.1292715}, {9233, 5.0914226}, {37512, 5.072991}, {13600, 5.022093}, {56965, 4.978331}, {1943, 4.977129}, {5049, 4.9528227}, {29183, 4.946967}, {26543, 4.919894}, {49911, 4.901149}]       |\n",
            "|2122   |[{36629, 5.6280956}, {9233, 5.3527813}, {36575, 5.160679}, {60869, 5.1529803}, {17917, 5.110639}, {37512, 5.1023583}, {19594, 5.0809536}, {66574, 4.978142}, {58733, 4.9761524}, {44668, 4.9158034}] |\n",
            "|2142   |[{10973, 5.0083637}, {14912, 4.9328456}, {4831, 4.9062796}, {56965, 4.881073}, {7467, 4.874978}, {7042, 4.863975}, {46506, 4.8618846}, {65118, 4.8454714}, {4058, 4.831874}, {18362, 4.826639}]      |\n",
            "|7982   |[{30014, 5.620304}, {5759, 5.591722}, {65023, 5.569673}, {13482, 5.466151}, {167, 5.4265304}, {39154, 5.381981}, {41745, 5.372988}, {7224, 5.3683934}, {65052, 5.3670855}, {25623, 5.2987084}]       |\n",
            "|8592   |[{25932, 4.4957314}, {52749, 4.352942}, {36022, 4.296408}, {54009, 4.2807336}, {12170, 4.269679}, {21890, 4.25384}, {42649, 4.210514}, {35184, 4.2031183}, {18362, 4.2002563}, {27831, 4.181536}]    |\n",
            "+-------+-----------------------------------------------------------------------------------------------------------------------------------------------------------------------------------------------------+\n",
            "only showing top 20 rows\n",
            "\n"
          ]
        }
      ],
      "source": [
        "movieRecs.show(truncate=False)"
      ]
    },
    {
      "cell_type": "markdown",
      "source": [
        "# Stop Spark"
      ],
      "metadata": {
        "id": "mSIVSUq5CQmd"
      }
    },
    {
      "cell_type": "code",
      "execution_count": null,
      "metadata": {
        "id": "dO-fLdbKe2n8"
      },
      "outputs": [],
      "source": [
        "spark.stop()"
      ]
    }
  ]
}